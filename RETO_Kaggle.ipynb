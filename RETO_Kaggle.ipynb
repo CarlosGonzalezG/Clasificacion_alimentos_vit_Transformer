{
  "cells": [
    {
      "cell_type": "markdown",
      "metadata": {
        "id": "7XCVdjQtvWVj"
      },
      "source": [
        "----\n",
        "**Helping Visually Impaired People to Identify Foods**\n",
        "\n",
        "Master Ingeniería de Telecomunicación 2023-2024\n",
        "\n",
        "\n",
        "Autor: Carlos González Gamella 100364132\n",
        "\n",
        "\n",
        "\n",
        "----\n"
      ]
    },
    {
      "cell_type": "markdown",
      "metadata": {
        "id": "p3uAQ8-puGiT"
      },
      "source": [
        "**Con el modelo preentrenado se consigue 0.90727 de accuracy**"
      ]
    },
    {
      "cell_type": "markdown",
      "metadata": {
        "id": "-NmXaYIG12d1"
      },
      "source": [
        "Conexión con Google Drive"
      ]
    },
    {
      "cell_type": "code",
      "execution_count": 1,
      "metadata": {
        "colab": {
          "base_uri": "https://localhost:8080/"
        },
        "id": "NzJScmuB11tJ",
        "outputId": "f0314d59-ec15-4f0b-e63b-082af753e466"
      },
      "outputs": [
        {
          "output_type": "stream",
          "name": "stdout",
          "text": [
            "Mounted at /content/drive\n"
          ]
        }
      ],
      "source": [
        "# If you want to store some models or results into your drive, you might find these lines of code useful\n",
        "# Load the Drive helper and mount\n",
        "from google.colab import drive\n",
        "\n",
        "# This will prompt for authorization.\n",
        "drive.mount('/content/drive')\n",
        "\n",
        "import os\n",
        "os.chdir('/content/drive/MyDrive/Colab Notebooks/ATVIAV/atviav-2324')"
      ]
    },
    {
      "cell_type": "markdown",
      "metadata": {
        "id": "omMzkpS9v241"
      },
      "source": [
        "#Importación de librerías"
      ]
    },
    {
      "cell_type": "code",
      "execution_count": 2,
      "metadata": {
        "id": "NH_-0GXNvTdq"
      },
      "outputs": [],
      "source": [
        "import pandas as pd\n",
        "from PIL import Image\n",
        "\n",
        "# Numpy\n",
        "import numpy as np\n",
        "\n",
        "# Matplotlib\n",
        "import matplotlib.pyplot as plt\n",
        "plt.style.use('default')\n",
        "\n",
        "# Itertools\n",
        "import itertools\n",
        "\n",
        "# PyTorch\n",
        "import torch\n",
        "import torch.nn as nn\n",
        "import torch.nn.functional as F\n",
        "import torch.optim as optim\n",
        "\n",
        "from torch.utils.data import DataLoader,random_split\n",
        "from torch.utils.data import sampler\n",
        "from torch.utils.data import DataLoader, SubsetRandomSampler\n",
        "\n",
        "import torchvision.datasets as datasets\n",
        "import torchvision.transforms as T\n",
        "from torchvision import models\n",
        "import torch.backends.cudnn as cudnn"
      ]
    },
    {
      "cell_type": "markdown",
      "metadata": {
        "id": "YzdpT-TTv6lA"
      },
      "source": [
        "#1. Importación dataset"
      ]
    },
    {
      "cell_type": "code",
      "execution_count": 3,
      "metadata": {
        "colab": {
          "base_uri": "https://localhost:8080/"
        },
        "id": "rA3ODcrsbQ2Y",
        "outputId": "b689fc64-5555-4eb9-e729-2ab7a7237763"
      },
      "outputs": [
        {
          "output_type": "execute_result",
          "data": {
            "text/plain": [
              "['test',\n",
              " 'train',\n",
              " 'googlenet_state.pth',\n",
              " 'model_ft.pth',\n",
              " 'submission_50.csv',\n",
              " 'submission.csv']"
            ]
          },
          "metadata": {},
          "execution_count": 3
        }
      ],
      "source": [
        "# Camino a la carpeta del dataset\n",
        "path_to_dataset = '/content/drive/MyDrive/Colab Notebooks/ATVIAV/atviav-2324'\n",
        "\n",
        "# Listar los archivos/directorios en la carpeta del dataset\n",
        "os.listdir(path_to_dataset)"
      ]
    },
    {
      "cell_type": "code",
      "execution_count": 4,
      "metadata": {
        "colab": {
          "base_uri": "https://localhost:8080/"
        },
        "id": "jrQ057i2By-U",
        "outputId": "4963e578-8a95-488a-8bc5-ddd57a3d3d1c"
      },
      "outputs": [
        {
          "output_type": "stream",
          "name": "stdout",
          "text": [
            "['apple_pie', 'cheesecake', 'chicken_curry', 'french_fries', 'fried_rice', 'hamburger', 'hot_dog', 'ice_cream', 'omelette', 'pizza', 'sushi']\n"
          ]
        }
      ],
      "source": [
        "# Cargar el conjunto de entrenamiento completo\n",
        "full_train_dataset = datasets.ImageFolder('/content/drive/MyDrive/Colab Notebooks/ATVIAV/atviav-2324/train')\n",
        "clases = full_train_dataset.classes\n",
        "print(clases)\n",
        "\n",
        "# Dividir en conjunto de entrenamiento y validación\n",
        "train_size = int(0.8 * len(full_train_dataset))\n",
        "val_size = len(full_train_dataset) - train_size\n",
        "train_dataset, val_dataset = random_split(full_train_dataset, [train_size, val_size])\n",
        "\n",
        "# Tamaños de los batches\n",
        "batch_size = 64\n",
        "\n",
        "# DataLoader para el conjunto de entrenamiento\n",
        "train_loader = DataLoader(train_dataset, batch_size=batch_size, shuffle=True)\n",
        "# DataLoader para el conjunto de validación\n",
        "val_loader = DataLoader(val_dataset, batch_size=batch_size, shuffle=True)"
      ]
    },
    {
      "cell_type": "markdown",
      "metadata": {
        "id": "M-QnIEZ225rG"
      },
      "source": [
        "#1.1 Transformaciones a las imágenes"
      ]
    },
    {
      "cell_type": "markdown",
      "metadata": {
        "id": "5NOk55fR3-3m"
      },
      "source": [
        "Para poder sacar unos valores medios para estandarizar las imágenes"
      ]
    },
    {
      "cell_type": "code",
      "execution_count": null,
      "metadata": {
        "id": "NYm_HU4s3cfO"
      },
      "outputs": [],
      "source": [
        "'''\n",
        "# Cargar el conjunto de datos sin normalización\n",
        "transform = T.Compose([\n",
        "    T.Resize((224, 224)),\n",
        "    T.ToTensor(),\n",
        "])\n",
        "\n",
        "# Asegúrate de aplicar la transformación al cargar el conjunto de datos\n",
        "full_train_dataset = datasets.ImageFolder('/content/drive/MyDrive/Colab Notebooks/ATVIAV/atvaiv-2324/atvaiv_dataset/atvaiv_dataset/train', transform=transform)\n",
        "\n",
        "# DataLoader\n",
        "loader = torch.utils.data.DataLoader(full_train_dataset, batch_size=64, shuffle=False, num_workers=2)\n",
        "\n",
        "# Variables para almacenar sumas y conteos\n",
        "mean = 0.\n",
        "std = 0.\n",
        "nb_samples = 0\n",
        "\n",
        "for data, _ in loader:\n",
        "    # Reajustar tamaño del batch\n",
        "    batch_samples = data.size(0)\n",
        "\n",
        "    # Reajustar datos para calcular la media y la std por canal\n",
        "    data = data.view(batch_samples, data.size(1), -1)\n",
        "    mean += data.mean(2).sum(0)\n",
        "    std += data.std(2).sum(0)\n",
        "    nb_samples += batch_samples\n",
        "\n",
        "# Calcular la media y la std final\n",
        "mean /= nb_samples\n",
        "std /= nb_samples\n",
        "\n",
        "# Imprimir los valores medios y desviaciones estándar por canal\n",
        "print(f'Mean: {mean}')\n",
        "print(f'Std: {std}')\n",
        "'''"
      ]
    },
    {
      "cell_type": "code",
      "execution_count": 7,
      "metadata": {
        "id": "yEBuSlFlZ03s"
      },
      "outputs": [],
      "source": [
        "train_transforms = T.Compose([\n",
        "    # Recortar la imagen de manera aleatoria y luego redimensionar a 224x224\n",
        "    T.RandomResizedCrop(224),\n",
        "    # Aplicar volteo horizontal y vertical de manera aleatoria\n",
        "    T.RandomHorizontalFlip(p=0.5),\n",
        "    T.RandomVerticalFlip(p=0.5),\n",
        "    # Rotar la imagen un ángulo aleatorio entre 30 y 70 grados\n",
        "    T.RandomRotation(degrees=(30, 70)),\n",
        "    # Convertir la imagen a tensor\n",
        "    T.ToTensor(),\n",
        "    # Normalizar con los valores medios y desviaciones estándar de los datos\n",
        "    T.Normalize((0.5600, 0.4481, 0.3405), (0.2248, 0.2356, 0.2332))\n",
        "])\n",
        "\n",
        "# Aplicar las transformaciones al conjunto de entrenamiento y test\n",
        "train_dataset.dataset.transform = train_transforms\n",
        "val_dataset.dataset.transform = train_transforms\n"
      ]
    },
    {
      "cell_type": "markdown",
      "metadata": {
        "id": "xJowSbDZ6yNu"
      },
      "source": [
        "# 1.2 Modelo from scracth basado en AlexNet"
      ]
    },
    {
      "cell_type": "code",
      "execution_count": 8,
      "metadata": {
        "colab": {
          "base_uri": "https://localhost:8080/"
        },
        "id": "MK0KmCWe9HhW",
        "outputId": "fdfcefb7-636a-4fd2-bcbc-dc92f4b1bc53"
      },
      "outputs": [
        {
          "output_type": "stream",
          "name": "stdout",
          "text": [
            "Output size: torch.Size([64, 11])\n"
          ]
        }
      ],
      "source": [
        "def flatten(x):\n",
        "    N = x.shape[0]  # Lee N, C, H, W\n",
        "    return x.view(N, -1)  # \"Aplana\" los valores C * H * W en un único vector por imagen\n",
        "\n",
        "class AlexNet(nn.Module):\n",
        "    def __init__(self, in_channel, num_classes):\n",
        "        super(AlexNet, self).__init__()\n",
        "        self.c1 = nn.Conv2d(in_channel, 96, kernel_size=11, stride=4, padding=2)\n",
        "        self.m1 = nn.MaxPool2d(kernel_size=3, stride=2)\n",
        "        self.c2 = nn.Conv2d(96, 256, kernel_size=5, padding=2)\n",
        "        self.m2 = nn.MaxPool2d(kernel_size=3, stride=2)\n",
        "        self.c3 = nn.Conv2d(256, 384, kernel_size=3, padding=1)\n",
        "        self.c4 = nn.Conv2d(384, 384, kernel_size=3, padding=1)\n",
        "        self.c5 = nn.Conv2d(384, 256, kernel_size=3, padding=1)\n",
        "        self.m3 = nn.MaxPool2d(kernel_size=3, stride=2)\n",
        "\n",
        "        self.fc1 = nn.Linear(256 * 6 * 6, 4096)\n",
        "        self.fc2 = nn.Linear(4096, 4096)\n",
        "        self.fcout = nn.Linear(4096, num_classes)\n",
        "\n",
        "    def forward(self, x):\n",
        "        out = self.c1(x)\n",
        "        out = F.relu(out)\n",
        "        out = self.m1(out)\n",
        "\n",
        "        out = self.c2(out)\n",
        "        out = F.relu(out)\n",
        "        out = self.m2(out)\n",
        "\n",
        "        out = self.c3(out)\n",
        "        out = F.relu(out)\n",
        "        out = self.c4(out)\n",
        "        out = F.relu(out)\n",
        "        out = self.c5(out)\n",
        "        out = F.relu(out)\n",
        "        out = self.m3(out)\n",
        "\n",
        "        out = flatten(out)\n",
        "        out = self.fc1(out)\n",
        "        out = F.relu(out)\n",
        "        out = self.fc2(out)\n",
        "        out = F.relu(out)\n",
        "\n",
        "        out = self.fcout(out)\n",
        "\n",
        "        return out\n",
        "\n",
        "def test_AlexNet():\n",
        "    x = torch.randn((64, 3, 224, 224))  # minibatch size 64, image size [3, 224, 224]\n",
        "    model = AlexNet(in_channel=3, num_classes=11)\n",
        "    scores = model(x)\n",
        "    print(\"Output size:\", scores.size())\n",
        "\n",
        "test_AlexNet()\n"
      ]
    },
    {
      "cell_type": "markdown",
      "metadata": {
        "id": "sUs3VL1mGwEh"
      },
      "source": [
        "# Entrenando el modelo scratch"
      ]
    },
    {
      "cell_type": "markdown",
      "metadata": {
        "id": "ZJfu2IXIHwfU"
      },
      "source": [
        "Para evaluar sobre los datos de eval"
      ]
    },
    {
      "cell_type": "code",
      "execution_count": 9,
      "metadata": {
        "id": "P4YaHQLCickb"
      },
      "outputs": [],
      "source": [
        "def eval_model(loader, model, device = torch.device('cuda')):\n",
        "    loss = []\n",
        "    num_correct = 0\n",
        "    num_samples = 0\n",
        "    model.eval()  # set model to evaluation mode\n",
        "    with torch.no_grad(): #normalmente uso modelo de descenso por gradiente, haciendo eso hago que no modifique ningún peso\n",
        "        for x, y in loader:\n",
        "            x = x.to(device=device, dtype=torch.float32)  # move to device, e.g. GPU\n",
        "            y = y.to(device=device, dtype=torch.long)\n",
        "            scores = model(x) # saca las probabilidades de cada clase\n",
        "            loss.append(F.cross_entropy(scores, y).data.cpu().numpy())\n",
        "            _, preds = scores.max(1)\n",
        "            num_correct += (preds == y).sum()\n",
        "            num_samples += preds.size(0)\n",
        "        acc = float(num_correct) / num_samples\n",
        "        mean_loss = np.mean(loss)\n",
        "        print('Got %d / %d correct (%.2f)' % (num_correct, num_samples, 100 * acc))\n",
        "        print('Loss=%.2f' % mean_loss)\n",
        "    return acc, mean_loss"
      ]
    },
    {
      "cell_type": "code",
      "execution_count": 10,
      "metadata": {
        "id": "HslLl9YORJAJ"
      },
      "outputs": [],
      "source": [
        "def training_loop_plot(model, optimizer, epochs=1, device = torch.device('cuda')):\n",
        "    ##############################################################\n",
        "    # - - - WRITE YOUR CODE HERE - - -\n",
        "    # 1) Modify the function 'training_loop' to represent,\n",
        "    # using Matplotlib, the value of the loss for the training\n",
        "    # and validation sets over epochs.\n",
        "\n",
        "    ##############################################################\n",
        "    loss_val_list = []\n",
        "    loss_train_list = []\n",
        "\n",
        "    meanloss_val_list = []\n",
        "    meanloss_train_list = []\n",
        "\n",
        "    model.to(device)  # move the model parameters to CPU/GPU\n",
        "    for e in range(epochs):\n",
        "        for t, (x, y) in enumerate(train_loader):\n",
        "            model.train()  # put model to training mode\n",
        "            x = x.to(device=device, dtype=torch.float32)  # move to device, e.g. GPU\n",
        "            y = y.to(device=device, dtype=torch.long)\n",
        "\n",
        "            scores = model(x)\n",
        "            loss = nn.CrossEntropyLoss()\n",
        "            loss = loss(scores, y) ### TO COMPLETE [COMPLETED]\n",
        "\n",
        "            loss_train_list.append(loss.item())\n",
        "\n",
        "            # Zero out all of the gradients for the variables which the optimizer\n",
        "            # will update.\n",
        "            optimizer.zero_grad()\n",
        "\n",
        "            # This is the backwards pass: compute the gradient of the loss with\n",
        "            # respect to each  parameter of the model.\n",
        "            loss.backward()\n",
        "\n",
        "            # Actually update the parameters of the model using the gradients\n",
        "            # computed by the backwards pass.\n",
        "            optimizer.step()\n",
        "\n",
        "        # Save mean_loss values for each epoch\n",
        "        meanloss_train_list.append(np.mean(loss_train_list))\n",
        "\n",
        "        acc, mean_loss = eval_model(val_loader, model)\n",
        "        meanloss_val_list.append(mean_loss)\n",
        "\n",
        "    # Plot mean loss for each epoch and set\n",
        "    plt.plot(loss_val_list)\n",
        "    plt.plot(meanloss_train_list, label='Train')\n",
        "    plt.plot(meanloss_val_list, label='Validation')\n",
        "    plt.legend(title = 'Data')\n",
        "    plt.ylabel('loss')\n",
        "    plt.xlabel('epoch')\n",
        "    plt.title(\"Mean Loss over Epochs\")\n",
        "    plt.show()"
      ]
    },
    {
      "cell_type": "code",
      "execution_count": 16,
      "metadata": {
        "id": "qASoSpHsH5wQ",
        "colab": {
          "base_uri": "https://localhost:8080/",
          "height": 918
        },
        "outputId": "ddb62700-2faa-4d45-f551-b4a1c2920951"
      },
      "outputs": [
        {
          "output_type": "stream",
          "name": "stdout",
          "text": [
            "Entrenando con tasa de aprendizaje: 0.015\n",
            "Got 126 / 1315 correct (9.58)\n",
            "Loss=2.40\n",
            "Got 163 / 1315 correct (12.40)\n",
            "Loss=2.40\n",
            "Got 160 / 1315 correct (12.17)\n",
            "Loss=2.40\n",
            "Got 153 / 1315 correct (11.63)\n",
            "Loss=2.40\n",
            "Got 161 / 1315 correct (12.24)\n",
            "Loss=2.40\n",
            "Got 194 / 1315 correct (14.75)\n",
            "Loss=2.39\n",
            "Got 178 / 1315 correct (13.54)\n",
            "Loss=2.37\n",
            "Got 200 / 1315 correct (15.21)\n",
            "Loss=2.31\n",
            "Got 163 / 1315 correct (12.40)\n",
            "Loss=2.38\n",
            "Got 184 / 1315 correct (13.99)\n",
            "Loss=2.37\n",
            "Got 194 / 1315 correct (14.75)\n",
            "Loss=2.31\n",
            "Got 200 / 1315 correct (15.21)\n",
            "Loss=2.28\n"
          ]
        },
        {
          "output_type": "display_data",
          "data": {
            "text/plain": [
              "<Figure size 640x480 with 1 Axes>"
            ],
            "image/png": "[encoded data removed]"
          },
          "metadata": {}
        }
      ],
      "source": [
        "# Llamada a la función de entrenamiento con diferentes tasas de aprendizaje\n",
        "lr = 0.015\n",
        "num_epochs = 12\n",
        "\n",
        "device = torch.device(\"cuda\" if torch.cuda.is_available() else \"cpu\")\n",
        "\n",
        "# Instanciando el modelo para cada tasa de aprendizaje\n",
        "model_AlexNet = AlexNet(in_channel=3, num_classes=11).to(device)\n",
        "\n",
        "# Definición del optimizador con la tasa de aprendizaje actual\n",
        "optimizer = optim.SGD(model_AlexNet.parameters(), lr=lr)\n",
        "\n",
        "# Llamada a la función de entrenamiento\n",
        "print(f\"Entrenando con tasa de aprendizaje: {lr}\")\n",
        "training_loop_plot(model_AlexNet, optimizer, num_epochs, device)\n"
      ]
    },
    {
      "cell_type": "markdown",
      "metadata": {
        "id": "oDw7vD0-zZtO"
      },
      "source": [
        "# Evaluando el modelo sobre los datos de test\n",
        "Aplico las mismas transformaciones que al conjunto de datos de entrenamiento"
      ]
    },
    {
      "cell_type": "code",
      "execution_count": 7,
      "metadata": {
        "id": "QOAYez8vin9j"
      },
      "outputs": [],
      "source": [
        "#tranformaciones de las imagenes de test\n",
        "transform_test = T.Compose([\n",
        "    # Recortar la imagen de manera aleatoria y luego redimensionar a 224x224\n",
        "    T.RandomResizedCrop(224),\n",
        "\n",
        "    # Aplicar volteo horizontal y vertical de manera aleatoria\n",
        "    T.RandomHorizontalFlip(p=0.5),\n",
        "    T.RandomVerticalFlip(p=0.5),\n",
        "    # Rotar la imagen un ángulo aleatorio entre 30 y 70 grados\n",
        "    T.RandomRotation(degrees=(30, 70)),\n",
        "    # Convertir la imagen a tensor\n",
        "    T.ToTensor(),\n",
        "    # Normalizar con los valores medios y desviaciones estándar de los datos\n",
        "    T.Normalize((0.5600, 0.4481, 0.3405), (0.2248, 0.2356, 0.2332))\n",
        "])\n",
        "\n",
        "#funcion para crear un Dataset de los datos de test que no estan etiquetados\n",
        "class ImageDataset(torch.utils.data.Dataset):\n",
        "    def __init__(self, img_dir, transform=None):\n",
        "        self.img_dir = img_dir\n",
        "        self.ids = sorted([int(file[0:-4]) for file in os.listdir(img_dir)])\n",
        "        self.transform = transform\n",
        "\n",
        "    def __len__(self):\n",
        "        return len(self.ids)\n",
        "\n",
        "    def __getitem__(self, idx):\n",
        "        path = self.img_dir + '/' + str(self.ids[idx]) + '.jpg'\n",
        "        image = Image.open(path)\n",
        "        if self.transform:\n",
        "            image = self.transform(image)\n",
        "        return image\n",
        "\n",
        "def etiq_model(loader, model, device):\n",
        "    model.eval()  # Configurar el modelo en modo de evaluación\n",
        "    preds = []\n",
        "    with torch.no_grad():\n",
        "        for x in loader:\n",
        "            x = x.to(device=device, dtype=torch.float32)\n",
        "            scores = model(x)\n",
        "            _, batch_preds = scores.max(1)\n",
        "            preds.extend(batch_preds.cpu().numpy())  # Acumular las predicciones\n",
        "    return preds"
      ]
    },
    {
      "cell_type": "code",
      "execution_count": 8,
      "metadata": {
        "id": "1rdkS9PwnNlN"
      },
      "outputs": [],
      "source": [
        "test_dataset = ImageDataset(img_dir='/content/drive/MyDrive/Colab Notebooks/ATVIAV/atviav-2324/test',transform=transform_test)\n",
        "test_loader = DataLoader(test_dataset, batch_size=64, shuffle=False)"
      ]
    },
    {
      "cell_type": "code",
      "execution_count": null,
      "metadata": {
        "id": "FxCngRWqGnoy"
      },
      "outputs": [],
      "source": [
        "# Configurar el dispositivo\n",
        "device = torch.device(\"cuda:0\" if torch.cuda.is_available() else \"cpu\")\n",
        "model_AlexNet.to(device)\n",
        "\n",
        "# Obtener las predicciones\n",
        "preds = etiq_model(test_loader, model_AlexNet, device)"
      ]
    },
    {
      "cell_type": "code",
      "execution_count": 15,
      "metadata": {
        "id": "CStHqjBnHCzm"
      },
      "outputs": [],
      "source": [
        "submission_df = pd.DataFrame({\n",
        "    'Id': test_dataset.ids,\n",
        "    'Predicted': preds\n",
        "})\n",
        "submission_df.to_csv('submission.csv', index=False)\n"
      ]
    },
    {
      "cell_type": "markdown",
      "metadata": {
        "id": "3GWXgD10HHUY"
      },
      "source": [
        "Guardando fichero a subir a KAGGLE:"
      ]
    },
    {
      "cell_type": "code",
      "execution_count": 18,
      "metadata": {
        "id": "D4BtyQuoHEG8",
        "colab": {
          "base_uri": "https://localhost:8080/",
          "height": 34
        },
        "outputId": "39a45a03-f68d-41cc-8d12-21bfda1a12d0"
      },
      "outputs": [
        {
          "output_type": "display_data",
          "data": {
            "text/plain": [
              "<IPython.core.display.Javascript object>"
            ],
            "application/javascript": [
              "\n",
              "    async function download(id, filename, size) {\n",
              "      if (!google.colab.kernel.accessAllowed) {\n",
              "        return;\n",
              "      }\n",
              "      const div = document.createElement('div');\n",
              "      const label = document.createElement('label');\n",
              "      label.textContent = `Downloading \"${filename}\": `;\n",
              "      div.appendChild(label);\n",
              "      const progress = document.createElement('progress');\n",
              "      progress.max = size;\n",
              "      div.appendChild(progress);\n",
              "      document.body.appendChild(div);\n",
              "\n",
              "      const buffers = [];\n",
              "      let downloaded = 0;\n",
              "\n",
              "      const channel = await google.colab.kernel.comms.open(id);\n",
              "      // Send a message to notify the kernel that we're ready.\n",
              "      channel.send({})\n",
              "\n",
              "      for await (const message of channel.messages) {\n",
              "        // Send a message to notify the kernel that we're ready.\n",
              "        channel.send({})\n",
              "        if (message.buffers) {\n",
              "          for (const buffer of message.buffers) {\n",
              "            buffers.push(buffer);\n",
              "            downloaded += buffer.byteLength;\n",
              "            progress.value = downloaded;\n",
              "          }\n",
              "        }\n",
              "      }\n",
              "      const blob = new Blob(buffers, {type: 'application/binary'});\n",
              "      const a = document.createElement('a');\n",
              "      a.href = window.URL.createObjectURL(blob);\n",
              "      a.download = filename;\n",
              "      div.appendChild(a);\n",
              "      a.click();\n",
              "      div.remove();\n",
              "    }\n",
              "  "
            ]
          },
          "metadata": {}
        },
        {
          "output_type": "display_data",
          "data": {
            "text/plain": [
              "<IPython.core.display.Javascript object>"
            ],
            "application/javascript": [
              "download(\"download_7501e465-3c40-4f23-af7a-aba254a61d7f\", \"submission.csv\", 9929)"
            ]
          },
          "metadata": {}
        }
      ],
      "source": [
        "from google.colab import files\n",
        "files.download('submission.csv')"
      ]
    },
    {
      "cell_type": "markdown",
      "metadata": {
        "id": "p-VhKPH09ITD"
      },
      "source": [
        "# 2. MODELOS PREENTRENADOS"
      ]
    },
    {
      "cell_type": "code",
      "execution_count": 5,
      "metadata": {
        "id": "UyvVMjycK1Fu"
      },
      "outputs": [],
      "source": [
        "train_transforms = T.Compose([\n",
        "    # Recortar la imagen de manera aleatoria y luego redimensionar a 224x224\n",
        "    T.RandomResizedCrop(224),\n",
        "    # Aplicar volteo horizontal y vertical de manera aleatoria\n",
        "    T.RandomHorizontalFlip(p=0.5),\n",
        "    T.RandomVerticalFlip(p=0.5),\n",
        "    # Rotar la imagen un ángulo aleatorio entre 30 y 70 grados\n",
        "    T.RandomRotation(degrees=(30, 70)),\n",
        "    # Ajusta el brillo, el contraste, la saturación y el tono de manera aleatoria\n",
        "    T.ColorJitter(brightness=0.2, contrast=0.2, saturation=0.2, hue=0.1),\n",
        "    # Convertir la imagen a tensor\n",
        "    T.ToTensor(),\n",
        "    # Normalizar con los valores medios y desviaciones estándar del full_dataset\n",
        "    T.Normalize((0.5600, 0.4481, 0.3405), (0.2248, 0.2356, 0.2332))\n",
        "])\n",
        "val_transforms = T.Compose([\n",
        "    # Recortar la imagen de manera aleatoria y luego redimensionar a 224x224\n",
        "    T.RandomResizedCrop(224),\n",
        "    # Convertir la imagen a tensor\n",
        "    T.ToTensor(),\n",
        "    # Normalizar con los valores medios y desviaciones estándar del full_dataset\n",
        "    T.Normalize((0.5600, 0.4481, 0.3405), (0.2248, 0.2356, 0.2332))\n",
        "])\n",
        "\n",
        "# Aplicar las transformaciones al conjunto de entrenamiento y validación\n",
        "train_dataset.dataset.transform = train_transforms\n",
        "val_dataset.dataset.transform = val_transforms"
      ]
    },
    {
      "cell_type": "markdown",
      "metadata": {
        "id": "z-CO7z9AHW-9"
      },
      "source": [
        "#Entrenamos el modelo con los datos de train y validamos para ver los resultados obtenidos.\n",
        "#Usamos el transformer vit_b_16."
      ]
    },
    {
      "cell_type": "code",
      "execution_count": 6,
      "metadata": {
        "id": "6Q9vDMoeVumL",
        "colab": {
          "base_uri": "https://localhost:8080/"
        },
        "outputId": "3c71b615-1a7f-45c6-e75f-8b289ef61a4d"
      },
      "outputs": [
        {
          "output_type": "stream",
          "name": "stderr",
          "text": [
            "/usr/local/lib/python3.10/dist-packages/torchvision/models/_utils.py:208: UserWarning: The parameter 'pretrained' is deprecated since 0.13 and may be removed in the future, please use 'weights' instead.\n",
            "  warnings.warn(\n",
            "/usr/local/lib/python3.10/dist-packages/torchvision/models/_utils.py:223: UserWarning: Arguments other than a weight enum or `None` for 'weights' are deprecated since 0.13 and may be removed in the future. The current behavior is equivalent to passing `weights=ViT_B_16_Weights.IMAGENET1K_V1`. You can also use `weights=ViT_B_16_Weights.DEFAULT` to get the most up-to-date weights.\n",
            "  warnings.warn(msg)\n",
            "Downloading: \"https://download.pytorch.org/models/vit_b_16-c867db91.pth\" to /root/.cache/torch/hub/checkpoints/vit_b_16-c867db91.pth\n",
            "100%|██████████| 330M/330M [00:02<00:00, 139MB/s]\n"
          ]
        },
        {
          "output_type": "execute_result",
          "data": {
            "text/plain": [
              "VisionTransformer(\n",
              "  (conv_proj): Conv2d(3, 768, kernel_size=(16, 16), stride=(16, 16))\n",
              "  (encoder): Encoder(\n",
              "    (dropout): Dropout(p=0.0, inplace=False)\n",
              "    (layers): Sequential(\n",
              "      (encoder_layer_0): EncoderBlock(\n",
              "        (ln_1): LayerNorm((768,), eps=1e-06, elementwise_affine=True)\n",
              "        (self_attention): MultiheadAttention(\n",
              "          (out_proj): NonDynamicallyQuantizableLinear(in_features=768, out_features=768, bias=True)\n",
              "        )\n",
              "        (dropout): Dropout(p=0.0, inplace=False)\n",
              "        (ln_2): LayerNorm((768,), eps=1e-06, elementwise_affine=True)\n",
              "        (mlp): MLPBlock(\n",
              "          (0): Linear(in_features=768, out_features=3072, bias=True)\n",
              "          (1): GELU(approximate='none')\n",
              "          (2): Dropout(p=0.0, inplace=False)\n",
              "          (3): Linear(in_features=3072, out_features=768, bias=True)\n",
              "          (4): Dropout(p=0.0, inplace=False)\n",
              "        )\n",
              "      )\n",
              "      (encoder_layer_1): EncoderBlock(\n",
              "        (ln_1): LayerNorm((768,), eps=1e-06, elementwise_affine=True)\n",
              "        (self_attention): MultiheadAttention(\n",
              "          (out_proj): NonDynamicallyQuantizableLinear(in_features=768, out_features=768, bias=True)\n",
              "        )\n",
              "        (dropout): Dropout(p=0.0, inplace=False)\n",
              "        (ln_2): LayerNorm((768,), eps=1e-06, elementwise_affine=True)\n",
              "        (mlp): MLPBlock(\n",
              "          (0): Linear(in_features=768, out_features=3072, bias=True)\n",
              "          (1): GELU(approximate='none')\n",
              "          (2): Dropout(p=0.0, inplace=False)\n",
              "          (3): Linear(in_features=3072, out_features=768, bias=True)\n",
              "          (4): Dropout(p=0.0, inplace=False)\n",
              "        )\n",
              "      )\n",
              "      (encoder_layer_2): EncoderBlock(\n",
              "        (ln_1): LayerNorm((768,), eps=1e-06, elementwise_affine=True)\n",
              "        (self_attention): MultiheadAttention(\n",
              "          (out_proj): NonDynamicallyQuantizableLinear(in_features=768, out_features=768, bias=True)\n",
              "        )\n",
              "        (dropout): Dropout(p=0.0, inplace=False)\n",
              "        (ln_2): LayerNorm((768,), eps=1e-06, elementwise_affine=True)\n",
              "        (mlp): MLPBlock(\n",
              "          (0): Linear(in_features=768, out_features=3072, bias=True)\n",
              "          (1): GELU(approximate='none')\n",
              "          (2): Dropout(p=0.0, inplace=False)\n",
              "          (3): Linear(in_features=3072, out_features=768, bias=True)\n",
              "          (4): Dropout(p=0.0, inplace=False)\n",
              "        )\n",
              "      )\n",
              "      (encoder_layer_3): EncoderBlock(\n",
              "        (ln_1): LayerNorm((768,), eps=1e-06, elementwise_affine=True)\n",
              "        (self_attention): MultiheadAttention(\n",
              "          (out_proj): NonDynamicallyQuantizableLinear(in_features=768, out_features=768, bias=True)\n",
              "        )\n",
              "        (dropout): Dropout(p=0.0, inplace=False)\n",
              "        (ln_2): LayerNorm((768,), eps=1e-06, elementwise_affine=True)\n",
              "        (mlp): MLPBlock(\n",
              "          (0): Linear(in_features=768, out_features=3072, bias=True)\n",
              "          (1): GELU(approximate='none')\n",
              "          (2): Dropout(p=0.0, inplace=False)\n",
              "          (3): Linear(in_features=3072, out_features=768, bias=True)\n",
              "          (4): Dropout(p=0.0, inplace=False)\n",
              "        )\n",
              "      )\n",
              "      (encoder_layer_4): EncoderBlock(\n",
              "        (ln_1): LayerNorm((768,), eps=1e-06, elementwise_affine=True)\n",
              "        (self_attention): MultiheadAttention(\n",
              "          (out_proj): NonDynamicallyQuantizableLinear(in_features=768, out_features=768, bias=True)\n",
              "        )\n",
              "        (dropout): Dropout(p=0.0, inplace=False)\n",
              "        (ln_2): LayerNorm((768,), eps=1e-06, elementwise_affine=True)\n",
              "        (mlp): MLPBlock(\n",
              "          (0): Linear(in_features=768, out_features=3072, bias=True)\n",
              "          (1): GELU(approximate='none')\n",
              "          (2): Dropout(p=0.0, inplace=False)\n",
              "          (3): Linear(in_features=3072, out_features=768, bias=True)\n",
              "          (4): Dropout(p=0.0, inplace=False)\n",
              "        )\n",
              "      )\n",
              "      (encoder_layer_5): EncoderBlock(\n",
              "        (ln_1): LayerNorm((768,), eps=1e-06, elementwise_affine=True)\n",
              "        (self_attention): MultiheadAttention(\n",
              "          (out_proj): NonDynamicallyQuantizableLinear(in_features=768, out_features=768, bias=True)\n",
              "        )\n",
              "        (dropout): Dropout(p=0.0, inplace=False)\n",
              "        (ln_2): LayerNorm((768,), eps=1e-06, elementwise_affine=True)\n",
              "        (mlp): MLPBlock(\n",
              "          (0): Linear(in_features=768, out_features=3072, bias=True)\n",
              "          (1): GELU(approximate='none')\n",
              "          (2): Dropout(p=0.0, inplace=False)\n",
              "          (3): Linear(in_features=3072, out_features=768, bias=True)\n",
              "          (4): Dropout(p=0.0, inplace=False)\n",
              "        )\n",
              "      )\n",
              "      (encoder_layer_6): EncoderBlock(\n",
              "        (ln_1): LayerNorm((768,), eps=1e-06, elementwise_affine=True)\n",
              "        (self_attention): MultiheadAttention(\n",
              "          (out_proj): NonDynamicallyQuantizableLinear(in_features=768, out_features=768, bias=True)\n",
              "        )\n",
              "        (dropout): Dropout(p=0.0, inplace=False)\n",
              "        (ln_2): LayerNorm((768,), eps=1e-06, elementwise_affine=True)\n",
              "        (mlp): MLPBlock(\n",
              "          (0): Linear(in_features=768, out_features=3072, bias=True)\n",
              "          (1): GELU(approximate='none')\n",
              "          (2): Dropout(p=0.0, inplace=False)\n",
              "          (3): Linear(in_features=3072, out_features=768, bias=True)\n",
              "          (4): Dropout(p=0.0, inplace=False)\n",
              "        )\n",
              "      )\n",
              "      (encoder_layer_7): EncoderBlock(\n",
              "        (ln_1): LayerNorm((768,), eps=1e-06, elementwise_affine=True)\n",
              "        (self_attention): MultiheadAttention(\n",
              "          (out_proj): NonDynamicallyQuantizableLinear(in_features=768, out_features=768, bias=True)\n",
              "        )\n",
              "        (dropout): Dropout(p=0.0, inplace=False)\n",
              "        (ln_2): LayerNorm((768,), eps=1e-06, elementwise_affine=True)\n",
              "        (mlp): MLPBlock(\n",
              "          (0): Linear(in_features=768, out_features=3072, bias=True)\n",
              "          (1): GELU(approximate='none')\n",
              "          (2): Dropout(p=0.0, inplace=False)\n",
              "          (3): Linear(in_features=3072, out_features=768, bias=True)\n",
              "          (4): Dropout(p=0.0, inplace=False)\n",
              "        )\n",
              "      )\n",
              "      (encoder_layer_8): EncoderBlock(\n",
              "        (ln_1): LayerNorm((768,), eps=1e-06, elementwise_affine=True)\n",
              "        (self_attention): MultiheadAttention(\n",
              "          (out_proj): NonDynamicallyQuantizableLinear(in_features=768, out_features=768, bias=True)\n",
              "        )\n",
              "        (dropout): Dropout(p=0.0, inplace=False)\n",
              "        (ln_2): LayerNorm((768,), eps=1e-06, elementwise_affine=True)\n",
              "        (mlp): MLPBlock(\n",
              "          (0): Linear(in_features=768, out_features=3072, bias=True)\n",
              "          (1): GELU(approximate='none')\n",
              "          (2): Dropout(p=0.0, inplace=False)\n",
              "          (3): Linear(in_features=3072, out_features=768, bias=True)\n",
              "          (4): Dropout(p=0.0, inplace=False)\n",
              "        )\n",
              "      )\n",
              "      (encoder_layer_9): EncoderBlock(\n",
              "        (ln_1): LayerNorm((768,), eps=1e-06, elementwise_affine=True)\n",
              "        (self_attention): MultiheadAttention(\n",
              "          (out_proj): NonDynamicallyQuantizableLinear(in_features=768, out_features=768, bias=True)\n",
              "        )\n",
              "        (dropout): Dropout(p=0.0, inplace=False)\n",
              "        (ln_2): LayerNorm((768,), eps=1e-06, elementwise_affine=True)\n",
              "        (mlp): MLPBlock(\n",
              "          (0): Linear(in_features=768, out_features=3072, bias=True)\n",
              "          (1): GELU(approximate='none')\n",
              "          (2): Dropout(p=0.0, inplace=False)\n",
              "          (3): Linear(in_features=3072, out_features=768, bias=True)\n",
              "          (4): Dropout(p=0.0, inplace=False)\n",
              "        )\n",
              "      )\n",
              "      (encoder_layer_10): EncoderBlock(\n",
              "        (ln_1): LayerNorm((768,), eps=1e-06, elementwise_affine=True)\n",
              "        (self_attention): MultiheadAttention(\n",
              "          (out_proj): NonDynamicallyQuantizableLinear(in_features=768, out_features=768, bias=True)\n",
              "        )\n",
              "        (dropout): Dropout(p=0.0, inplace=False)\n",
              "        (ln_2): LayerNorm((768,), eps=1e-06, elementwise_affine=True)\n",
              "        (mlp): MLPBlock(\n",
              "          (0): Linear(in_features=768, out_features=3072, bias=True)\n",
              "          (1): GELU(approximate='none')\n",
              "          (2): Dropout(p=0.0, inplace=False)\n",
              "          (3): Linear(in_features=3072, out_features=768, bias=True)\n",
              "          (4): Dropout(p=0.0, inplace=False)\n",
              "        )\n",
              "      )\n",
              "      (encoder_layer_11): EncoderBlock(\n",
              "        (ln_1): LayerNorm((768,), eps=1e-06, elementwise_affine=True)\n",
              "        (self_attention): MultiheadAttention(\n",
              "          (out_proj): NonDynamicallyQuantizableLinear(in_features=768, out_features=768, bias=True)\n",
              "        )\n",
              "        (dropout): Dropout(p=0.0, inplace=False)\n",
              "        (ln_2): LayerNorm((768,), eps=1e-06, elementwise_affine=True)\n",
              "        (mlp): MLPBlock(\n",
              "          (0): Linear(in_features=768, out_features=3072, bias=True)\n",
              "          (1): GELU(approximate='none')\n",
              "          (2): Dropout(p=0.0, inplace=False)\n",
              "          (3): Linear(in_features=3072, out_features=768, bias=True)\n",
              "          (4): Dropout(p=0.0, inplace=False)\n",
              "        )\n",
              "      )\n",
              "    )\n",
              "    (ln): LayerNorm((768,), eps=1e-06, elementwise_affine=True)\n",
              "  )\n",
              "  (heads): Sequential(\n",
              "    (head): Linear(in_features=768, out_features=1000, bias=True)\n",
              "  )\n",
              "  (fc): Linear(in_features=1000, out_features=11, bias=True)\n",
              ")"
            ]
          },
          "metadata": {},
          "execution_count": 6
        }
      ],
      "source": [
        "cudnn.benchmark = True\n",
        "plt.ion()   # interactive mode\n",
        "device = torch.device(\"cuda:0\" if torch.cuda.is_available() else \"cpu\")\n",
        "\n",
        "#Entreno el modelo con los datos de train\n",
        "model_ft = models.vit_b_16(pretrained=True)\n",
        "num_ftrs = model_ft.num_classes\n",
        "model_ft.fc = nn.Linear(num_ftrs, 11)\n",
        "model_ft = model_ft.to(device)\n",
        "\n",
        "# Mover el modelo al dispositivo\n",
        "device = torch.device(\"cuda\" if torch.cuda.is_available() else \"cpu\")\n",
        "model_ft.to(device)"
      ]
    },
    {
      "cell_type": "code",
      "execution_count": 7,
      "metadata": {
        "id": "nihST5fy5Pp2"
      },
      "outputs": [],
      "source": [
        "# Ajustar la tasa de aprendizaje inicial si es necesario\n",
        "optimizer = optim.Adam(model_ft.parameters(), lr=0.0001)\n",
        "# Usar un programador de tasa de aprendizaje\n",
        "scheduler = torch.optim.lr_scheduler.StepLR(optimizer, step_size=7, gamma=0.05)\n",
        "\n",
        "criterion = nn.CrossEntropyLoss()"
      ]
    },
    {
      "cell_type": "code",
      "execution_count": 8,
      "metadata": {
        "id": "YmprnnSPWl5Q",
        "colab": {
          "base_uri": "https://localhost:8080/"
        },
        "outputId": "9ca35c2e-e677-431d-fb1e-664dda60dcbb"
      },
      "outputs": [
        {
          "output_type": "stream",
          "name": "stdout",
          "text": [
            "Época 1/15, Pérdida: 1.2730564054954483\n",
            "Precisión en el conjunto de validación: 78.85931558935361%\n",
            "Época 2/15, Pérdida: 0.5082883719938347\n",
            "Precisión en el conjunto de validación: 80.22813688212928%\n",
            "Época 3/15, Pérdida: 0.40183511421263934\n",
            "Precisión en el conjunto de validación: 84.18250950570342%\n",
            "Época 4/15, Pérdida: 0.3560065468212208\n",
            "Precisión en el conjunto de validación: 83.95437262357414%\n",
            "Época 5/15, Pérdida: 0.2941024025161582\n",
            "Precisión en el conjunto de validación: 86.31178707224335%\n",
            "Época 6/15, Pérdida: 0.30793624505939254\n",
            "Precisión en el conjunto de validación: 83.8022813688213%\n",
            "Época 7/15, Pérdida: 0.24829727572848997\n",
            "Precisión en el conjunto de validación: 83.8022813688213%\n",
            "Época 8/15, Pérdida: 0.17634002249463496\n",
            "Precisión en el conjunto de validación: 86.08365019011407%\n",
            "Época 9/15, Pérdida: 0.13880248373396784\n",
            "Precisión en el conjunto de validación: 87.68060836501901%\n",
            "Época 10/15, Pérdida: 0.11685153229319188\n",
            "Precisión en el conjunto de validación: 87.90874524714829%\n",
            "Época 11/15, Pérdida: 0.12382859575102129\n",
            "Precisión en el conjunto de validación: 86.92015209125475%\n",
            "Época 12/15, Pérdida: 0.12188098584133458\n",
            "Precisión en el conjunto de validación: 86.99619771863118%\n",
            "Época 13/15, Pérdida: 0.10830134828855474\n",
            "Precisión en el conjunto de validación: 86.69201520912547%\n",
            "Época 14/15, Pérdida: 0.11716362488377526\n",
            "Precisión en el conjunto de validación: 87.45247148288973%\n",
            "Época 15/15, Pérdida: 0.1029460786740823\n",
            "Precisión en el conjunto de validación: 88.212927756654%\n"
          ]
        }
      ],
      "source": [
        "num_epochs = 15\n",
        "\n",
        "for epoch in range(num_epochs):\n",
        "    model_ft.train()  # Configurar en modo de entrenamiento\n",
        "    running_loss = 0.0\n",
        "    for inputs, labels in train_loader:\n",
        "        inputs, labels = inputs.to(device), labels.to(device)\n",
        "\n",
        "        optimizer.zero_grad()\n",
        "        outputs = model_ft(inputs)\n",
        "        loss = criterion(outputs, labels)\n",
        "        loss.backward()\n",
        "        optimizer.step()\n",
        "\n",
        "        running_loss += loss.item()\n",
        "\n",
        "    print(f'Época {epoch+1}/{num_epochs}, Pérdida: {running_loss/len(train_loader)}')\n",
        "\n",
        "    scheduler.step()\n",
        "\n",
        "    # Validación\n",
        "    model_ft.eval()  # Configurar en modo de evaluación\n",
        "    correct = 0\n",
        "    total = 0\n",
        "    with torch.no_grad():\n",
        "        for inputs, labels in val_loader:\n",
        "            inputs, labels = inputs.to(device), labels.to(device)\n",
        "            outputs = model_ft(inputs)\n",
        "            _, predicted = torch.max(outputs.data, 1)\n",
        "            total += labels.size(0)\n",
        "            correct += (predicted == labels).sum().item()\n",
        "\n",
        "    accuracy = 100 * correct / total\n",
        "    print(f'Precisión en el conjunto de validación: {accuracy}%')"
      ]
    },
    {
      "cell_type": "markdown",
      "metadata": {
        "id": "MYUY1XjUn5pe"
      },
      "source": [
        "Para guardar el modelo:"
      ]
    },
    {
      "cell_type": "code",
      "execution_count": 9,
      "metadata": {
        "id": "ynHg0J8ziI1L"
      },
      "outputs": [],
      "source": [
        "torch.save(model_ft.state_dict(), 'model_ft.pth')"
      ]
    },
    {
      "cell_type": "markdown",
      "metadata": {
        "id": "Q1MB2rAln9V8"
      },
      "source": [
        "Para cargar el modelo:"
      ]
    },
    {
      "cell_type": "code",
      "execution_count": 10,
      "metadata": {
        "id": "FOo-J8Qyhclw",
        "colab": {
          "base_uri": "https://localhost:8080/"
        },
        "outputId": "2cf0b0f4-ce99-4ca8-8485-b9e9e4d836bc"
      },
      "outputs": [
        {
          "output_type": "execute_result",
          "data": {
            "text/plain": [
              "VisionTransformer(\n",
              "  (conv_proj): Conv2d(3, 768, kernel_size=(16, 16), stride=(16, 16))\n",
              "  (encoder): Encoder(\n",
              "    (dropout): Dropout(p=0.0, inplace=False)\n",
              "    (layers): Sequential(\n",
              "      (encoder_layer_0): EncoderBlock(\n",
              "        (ln_1): LayerNorm((768,), eps=1e-06, elementwise_affine=True)\n",
              "        (self_attention): MultiheadAttention(\n",
              "          (out_proj): NonDynamicallyQuantizableLinear(in_features=768, out_features=768, bias=True)\n",
              "        )\n",
              "        (dropout): Dropout(p=0.0, inplace=False)\n",
              "        (ln_2): LayerNorm((768,), eps=1e-06, elementwise_affine=True)\n",
              "        (mlp): MLPBlock(\n",
              "          (0): Linear(in_features=768, out_features=3072, bias=True)\n",
              "          (1): GELU(approximate='none')\n",
              "          (2): Dropout(p=0.0, inplace=False)\n",
              "          (3): Linear(in_features=3072, out_features=768, bias=True)\n",
              "          (4): Dropout(p=0.0, inplace=False)\n",
              "        )\n",
              "      )\n",
              "      (encoder_layer_1): EncoderBlock(\n",
              "        (ln_1): LayerNorm((768,), eps=1e-06, elementwise_affine=True)\n",
              "        (self_attention): MultiheadAttention(\n",
              "          (out_proj): NonDynamicallyQuantizableLinear(in_features=768, out_features=768, bias=True)\n",
              "        )\n",
              "        (dropout): Dropout(p=0.0, inplace=False)\n",
              "        (ln_2): LayerNorm((768,), eps=1e-06, elementwise_affine=True)\n",
              "        (mlp): MLPBlock(\n",
              "          (0): Linear(in_features=768, out_features=3072, bias=True)\n",
              "          (1): GELU(approximate='none')\n",
              "          (2): Dropout(p=0.0, inplace=False)\n",
              "          (3): Linear(in_features=3072, out_features=768, bias=True)\n",
              "          (4): Dropout(p=0.0, inplace=False)\n",
              "        )\n",
              "      )\n",
              "      (encoder_layer_2): EncoderBlock(\n",
              "        (ln_1): LayerNorm((768,), eps=1e-06, elementwise_affine=True)\n",
              "        (self_attention): MultiheadAttention(\n",
              "          (out_proj): NonDynamicallyQuantizableLinear(in_features=768, out_features=768, bias=True)\n",
              "        )\n",
              "        (dropout): Dropout(p=0.0, inplace=False)\n",
              "        (ln_2): LayerNorm((768,), eps=1e-06, elementwise_affine=True)\n",
              "        (mlp): MLPBlock(\n",
              "          (0): Linear(in_features=768, out_features=3072, bias=True)\n",
              "          (1): GELU(approximate='none')\n",
              "          (2): Dropout(p=0.0, inplace=False)\n",
              "          (3): Linear(in_features=3072, out_features=768, bias=True)\n",
              "          (4): Dropout(p=0.0, inplace=False)\n",
              "        )\n",
              "      )\n",
              "      (encoder_layer_3): EncoderBlock(\n",
              "        (ln_1): LayerNorm((768,), eps=1e-06, elementwise_affine=True)\n",
              "        (self_attention): MultiheadAttention(\n",
              "          (out_proj): NonDynamicallyQuantizableLinear(in_features=768, out_features=768, bias=True)\n",
              "        )\n",
              "        (dropout): Dropout(p=0.0, inplace=False)\n",
              "        (ln_2): LayerNorm((768,), eps=1e-06, elementwise_affine=True)\n",
              "        (mlp): MLPBlock(\n",
              "          (0): Linear(in_features=768, out_features=3072, bias=True)\n",
              "          (1): GELU(approximate='none')\n",
              "          (2): Dropout(p=0.0, inplace=False)\n",
              "          (3): Linear(in_features=3072, out_features=768, bias=True)\n",
              "          (4): Dropout(p=0.0, inplace=False)\n",
              "        )\n",
              "      )\n",
              "      (encoder_layer_4): EncoderBlock(\n",
              "        (ln_1): LayerNorm((768,), eps=1e-06, elementwise_affine=True)\n",
              "        (self_attention): MultiheadAttention(\n",
              "          (out_proj): NonDynamicallyQuantizableLinear(in_features=768, out_features=768, bias=True)\n",
              "        )\n",
              "        (dropout): Dropout(p=0.0, inplace=False)\n",
              "        (ln_2): LayerNorm((768,), eps=1e-06, elementwise_affine=True)\n",
              "        (mlp): MLPBlock(\n",
              "          (0): Linear(in_features=768, out_features=3072, bias=True)\n",
              "          (1): GELU(approximate='none')\n",
              "          (2): Dropout(p=0.0, inplace=False)\n",
              "          (3): Linear(in_features=3072, out_features=768, bias=True)\n",
              "          (4): Dropout(p=0.0, inplace=False)\n",
              "        )\n",
              "      )\n",
              "      (encoder_layer_5): EncoderBlock(\n",
              "        (ln_1): LayerNorm((768,), eps=1e-06, elementwise_affine=True)\n",
              "        (self_attention): MultiheadAttention(\n",
              "          (out_proj): NonDynamicallyQuantizableLinear(in_features=768, out_features=768, bias=True)\n",
              "        )\n",
              "        (dropout): Dropout(p=0.0, inplace=False)\n",
              "        (ln_2): LayerNorm((768,), eps=1e-06, elementwise_affine=True)\n",
              "        (mlp): MLPBlock(\n",
              "          (0): Linear(in_features=768, out_features=3072, bias=True)\n",
              "          (1): GELU(approximate='none')\n",
              "          (2): Dropout(p=0.0, inplace=False)\n",
              "          (3): Linear(in_features=3072, out_features=768, bias=True)\n",
              "          (4): Dropout(p=0.0, inplace=False)\n",
              "        )\n",
              "      )\n",
              "      (encoder_layer_6): EncoderBlock(\n",
              "        (ln_1): LayerNorm((768,), eps=1e-06, elementwise_affine=True)\n",
              "        (self_attention): MultiheadAttention(\n",
              "          (out_proj): NonDynamicallyQuantizableLinear(in_features=768, out_features=768, bias=True)\n",
              "        )\n",
              "        (dropout): Dropout(p=0.0, inplace=False)\n",
              "        (ln_2): LayerNorm((768,), eps=1e-06, elementwise_affine=True)\n",
              "        (mlp): MLPBlock(\n",
              "          (0): Linear(in_features=768, out_features=3072, bias=True)\n",
              "          (1): GELU(approximate='none')\n",
              "          (2): Dropout(p=0.0, inplace=False)\n",
              "          (3): Linear(in_features=3072, out_features=768, bias=True)\n",
              "          (4): Dropout(p=0.0, inplace=False)\n",
              "        )\n",
              "      )\n",
              "      (encoder_layer_7): EncoderBlock(\n",
              "        (ln_1): LayerNorm((768,), eps=1e-06, elementwise_affine=True)\n",
              "        (self_attention): MultiheadAttention(\n",
              "          (out_proj): NonDynamicallyQuantizableLinear(in_features=768, out_features=768, bias=True)\n",
              "        )\n",
              "        (dropout): Dropout(p=0.0, inplace=False)\n",
              "        (ln_2): LayerNorm((768,), eps=1e-06, elementwise_affine=True)\n",
              "        (mlp): MLPBlock(\n",
              "          (0): Linear(in_features=768, out_features=3072, bias=True)\n",
              "          (1): GELU(approximate='none')\n",
              "          (2): Dropout(p=0.0, inplace=False)\n",
              "          (3): Linear(in_features=3072, out_features=768, bias=True)\n",
              "          (4): Dropout(p=0.0, inplace=False)\n",
              "        )\n",
              "      )\n",
              "      (encoder_layer_8): EncoderBlock(\n",
              "        (ln_1): LayerNorm((768,), eps=1e-06, elementwise_affine=True)\n",
              "        (self_attention): MultiheadAttention(\n",
              "          (out_proj): NonDynamicallyQuantizableLinear(in_features=768, out_features=768, bias=True)\n",
              "        )\n",
              "        (dropout): Dropout(p=0.0, inplace=False)\n",
              "        (ln_2): LayerNorm((768,), eps=1e-06, elementwise_affine=True)\n",
              "        (mlp): MLPBlock(\n",
              "          (0): Linear(in_features=768, out_features=3072, bias=True)\n",
              "          (1): GELU(approximate='none')\n",
              "          (2): Dropout(p=0.0, inplace=False)\n",
              "          (3): Linear(in_features=3072, out_features=768, bias=True)\n",
              "          (4): Dropout(p=0.0, inplace=False)\n",
              "        )\n",
              "      )\n",
              "      (encoder_layer_9): EncoderBlock(\n",
              "        (ln_1): LayerNorm((768,), eps=1e-06, elementwise_affine=True)\n",
              "        (self_attention): MultiheadAttention(\n",
              "          (out_proj): NonDynamicallyQuantizableLinear(in_features=768, out_features=768, bias=True)\n",
              "        )\n",
              "        (dropout): Dropout(p=0.0, inplace=False)\n",
              "        (ln_2): LayerNorm((768,), eps=1e-06, elementwise_affine=True)\n",
              "        (mlp): MLPBlock(\n",
              "          (0): Linear(in_features=768, out_features=3072, bias=True)\n",
              "          (1): GELU(approximate='none')\n",
              "          (2): Dropout(p=0.0, inplace=False)\n",
              "          (3): Linear(in_features=3072, out_features=768, bias=True)\n",
              "          (4): Dropout(p=0.0, inplace=False)\n",
              "        )\n",
              "      )\n",
              "      (encoder_layer_10): EncoderBlock(\n",
              "        (ln_1): LayerNorm((768,), eps=1e-06, elementwise_affine=True)\n",
              "        (self_attention): MultiheadAttention(\n",
              "          (out_proj): NonDynamicallyQuantizableLinear(in_features=768, out_features=768, bias=True)\n",
              "        )\n",
              "        (dropout): Dropout(p=0.0, inplace=False)\n",
              "        (ln_2): LayerNorm((768,), eps=1e-06, elementwise_affine=True)\n",
              "        (mlp): MLPBlock(\n",
              "          (0): Linear(in_features=768, out_features=3072, bias=True)\n",
              "          (1): GELU(approximate='none')\n",
              "          (2): Dropout(p=0.0, inplace=False)\n",
              "          (3): Linear(in_features=3072, out_features=768, bias=True)\n",
              "          (4): Dropout(p=0.0, inplace=False)\n",
              "        )\n",
              "      )\n",
              "      (encoder_layer_11): EncoderBlock(\n",
              "        (ln_1): LayerNorm((768,), eps=1e-06, elementwise_affine=True)\n",
              "        (self_attention): MultiheadAttention(\n",
              "          (out_proj): NonDynamicallyQuantizableLinear(in_features=768, out_features=768, bias=True)\n",
              "        )\n",
              "        (dropout): Dropout(p=0.0, inplace=False)\n",
              "        (ln_2): LayerNorm((768,), eps=1e-06, elementwise_affine=True)\n",
              "        (mlp): MLPBlock(\n",
              "          (0): Linear(in_features=768, out_features=3072, bias=True)\n",
              "          (1): GELU(approximate='none')\n",
              "          (2): Dropout(p=0.0, inplace=False)\n",
              "          (3): Linear(in_features=3072, out_features=768, bias=True)\n",
              "          (4): Dropout(p=0.0, inplace=False)\n",
              "        )\n",
              "      )\n",
              "    )\n",
              "    (ln): LayerNorm((768,), eps=1e-06, elementwise_affine=True)\n",
              "  )\n",
              "  (heads): Sequential(\n",
              "    (head): Linear(in_features=768, out_features=1000, bias=True)\n",
              "  )\n",
              "  (fc): Linear(in_features=1000, out_features=11, bias=True)\n",
              ")"
            ]
          },
          "metadata": {},
          "execution_count": 10
        }
      ],
      "source": [
        "model_ft.load_state_dict(torch.load('model_ft.pth'))\n",
        "model_ft.eval()\n"
      ]
    },
    {
      "cell_type": "code",
      "execution_count": 11,
      "metadata": {
        "id": "sNC2CaLFLaPw"
      },
      "outputs": [],
      "source": [
        "#tranformaciones de las imagenes de test\n",
        "transform_test = T.Compose([\n",
        "    # Recortar la imagen de manera aleatoria y luego redimensionar a 224x224\n",
        "    T.RandomResizedCrop(224),\n",
        "    T.ToTensor(),\n",
        "    # Normalizar con los valores medios y desviaciones estándar del full_dataset\n",
        "    T.Normalize((0.5600, 0.4481, 0.3405), (0.2248, 0.2356, 0.2332))])\n",
        "\n",
        "#funcion para crear un Dataset de los datos de test que no estan etiquetados\n",
        "class ImageDataset(torch.utils.data.Dataset):\n",
        "    def __init__(self, img_dir, transform=None):\n",
        "        self.img_dir = img_dir\n",
        "        self.ids = sorted([int(file[0:-4]) for file in os.listdir(img_dir)])\n",
        "        self.transform = transform\n",
        "\n",
        "    def __len__(self):\n",
        "        return len(self.ids)\n",
        "\n",
        "    def __getitem__(self, idx):\n",
        "        path = self.img_dir + '/' + str(self.ids[idx]) + '.jpg'\n",
        "        image = Image.open(path)\n",
        "        if self.transform:\n",
        "            image = self.transform(image)\n",
        "        return image\n",
        "\n",
        "def etiq_model(loader, model, device):\n",
        "    model.eval()  # Configurar el modelo en modo de evaluación\n",
        "    preds = []\n",
        "    with torch.no_grad():\n",
        "        for x in loader:\n",
        "            x = x.to(device=device, dtype=torch.float32)\n",
        "            scores = model(x)\n",
        "            _, batch_preds = scores.max(1)\n",
        "            preds.extend(batch_preds.cpu().numpy())  # Acumular las predicciones\n",
        "    return preds"
      ]
    },
    {
      "cell_type": "code",
      "execution_count": 12,
      "metadata": {
        "id": "OAzA8G9roNF7"
      },
      "outputs": [],
      "source": [
        "#Aplico la misma normalización que uso en el conjunto de datos de val\n",
        "test_dataset = ImageDataset(img_dir='/content/drive/MyDrive/Colab Notebooks/ATVIAV/atviav-2324/test',transform=transform_test)\n",
        "batch_size = 64 #numero total de imagenes de test\n",
        "test_loader = DataLoader(test_dataset, batch_size=batch_size, shuffle=False)\n",
        "\n",
        "# Configurar el dispositivo\n",
        "device = torch.device(\"cuda:0\" if torch.cuda.is_available() else \"cpu\")\n",
        "model_ft.to(device)  # Asegúrate de que el modelo esté en el dispositivo correcto\n",
        "\n",
        "# Obtener las predicciones\n",
        "preds = etiq_model(test_loader, model_ft, device)"
      ]
    },
    {
      "cell_type": "code",
      "execution_count": 13,
      "metadata": {
        "id": "13FppdUhirMx"
      },
      "outputs": [],
      "source": [
        "submission_df = pd.DataFrame({\n",
        "    'Id': test_dataset.ids,\n",
        "    'Predicted': preds\n",
        "})\n",
        "submission_df.to_csv('submission_50.csv', index=False)\n"
      ]
    },
    {
      "cell_type": "markdown",
      "metadata": {
        "id": "tGgKgFa2oAk9"
      },
      "source": [
        "Guardando fichero a subir a KAGGLE:\n",
        "\n",
        "\n"
      ]
    },
    {
      "cell_type": "code",
      "execution_count": 14,
      "metadata": {
        "id": "qOfn0MYXkWJG",
        "colab": {
          "base_uri": "https://localhost:8080/",
          "height": 17
        },
        "outputId": "f936b275-efdf-4ed1-a2eb-5426b026536a"
      },
      "outputs": [
        {
          "output_type": "display_data",
          "data": {
            "text/plain": [
              "<IPython.core.display.Javascript object>"
            ],
            "application/javascript": [
              "\n",
              "    async function download(id, filename, size) {\n",
              "      if (!google.colab.kernel.accessAllowed) {\n",
              "        return;\n",
              "      }\n",
              "      const div = document.createElement('div');\n",
              "      const label = document.createElement('label');\n",
              "      label.textContent = `Downloading \"${filename}\": `;\n",
              "      div.appendChild(label);\n",
              "      const progress = document.createElement('progress');\n",
              "      progress.max = size;\n",
              "      div.appendChild(progress);\n",
              "      document.body.appendChild(div);\n",
              "\n",
              "      const buffers = [];\n",
              "      let downloaded = 0;\n",
              "\n",
              "      const channel = await google.colab.kernel.comms.open(id);\n",
              "      // Send a message to notify the kernel that we're ready.\n",
              "      channel.send({})\n",
              "\n",
              "      for await (const message of channel.messages) {\n",
              "        // Send a message to notify the kernel that we're ready.\n",
              "        channel.send({})\n",
              "        if (message.buffers) {\n",
              "          for (const buffer of message.buffers) {\n",
              "            buffers.push(buffer);\n",
              "            downloaded += buffer.byteLength;\n",
              "            progress.value = downloaded;\n",
              "          }\n",
              "        }\n",
              "      }\n",
              "      const blob = new Blob(buffers, {type: 'application/binary'});\n",
              "      const a = document.createElement('a');\n",
              "      a.href = window.URL.createObjectURL(blob);\n",
              "      a.download = filename;\n",
              "      div.appendChild(a);\n",
              "      a.click();\n",
              "      div.remove();\n",
              "    }\n",
              "  "
            ]
          },
          "metadata": {}
        },
        {
          "output_type": "display_data",
          "data": {
            "text/plain": [
              "<IPython.core.display.Javascript object>"
            ],
            "application/javascript": [
              "download(\"download_202b8fe3-84dc-4019-b1d6-35af9b5977e9\", \"submission_50.csv\", 9530)"
            ]
          },
          "metadata": {}
        }
      ],
      "source": [
        "from google.colab import files\n",
        "files.download('submission_50.csv')\n"
      ]
    }
  ],
  "metadata": {
    "accelerator": "GPU",
    "colab": {
      "provenance": [],
      "toc_visible": true
    },
    "kernelspec": {
      "display_name": "Python 3",
      "name": "python3"
    },
    "language_info": {
      "name": "python"
    }
  },
  "nbformat": 4,
  "nbformat_minor": 0
}